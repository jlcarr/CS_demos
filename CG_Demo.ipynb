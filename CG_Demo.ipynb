{
 "cells": [
  {
   "cell_type": "markdown",
   "metadata": {},
   "source": [
    "# Computer Graphics (CG)\n",
    "https://en.wikipedia.org/wiki/Computer_graphics  \n",
    "https://en.wikipedia.org/wiki/Computer_graphics_(computer_science)  \n",
    "How do your videogames render images?  \n",
    "How are 3D movies made?  \n",
    "How do design, CAD, and graphing software work?  "
   ]
  },
  {
   "cell_type": "markdown",
   "metadata": {},
   "source": [
    "## Tools\n",
    "### Tools of the Trade\n",
    "#### OpenGL\n",
    "https://opengl.org/  \n",
    "https://en.wikipedia.org/wiki/OpenGL  \n",
    "https://en.wikipedia.org/wiki/Vulkan_(API)  \n",
    "\n",
    "#### Blender\n",
    "https://www.blender.org/  \n",
    "https://en.wikipedia.org/wiki/Blender_(software)  \n",
    "\n",
    "### Why Python For This Demo?\n",
    "Python is an **interpreted** scripting language (rather than **compiled**), and thus is way too slow for computer graphics purposes. Nevertheless, there are many standard Python packages that come with compiled C binaries which will perform the heavy lifting, allowing Python to simply act as ledgible glue-code for problem setup."
   ]
  },
  {
   "cell_type": "markdown",
   "metadata": {},
   "source": [
    "### NumPy\n",
    "https://numpy.org/  \n",
    "https://en.wikipedia.org/wiki/NumPy  \n",
    "NumPy is a scientific computing package that is designed to provide a robust n-dimensional array object and a suite of optimized linear algebra algorithms.  \n",
    "It is the backbone of almost all Python scientific computing packages.  "
   ]
  },
  {
   "cell_type": "code",
   "execution_count": null,
   "metadata": {},
   "outputs": [],
   "source": [
    "import numpy as np"
   ]
  },
  {
   "cell_type": "markdown",
   "metadata": {},
   "source": [
    "### Matplotlib\n",
    "https://matplotlib.org/  \n",
    "https://en.wikipedia.org/wiki/Matplotlib  \n",
    "Matplotlib is a plotting package that is designed to provide a suite of standard plotting and visualization tools.  "
   ]
  },
  {
   "cell_type": "code",
   "execution_count": null,
   "metadata": {},
   "outputs": [],
   "source": [
    "import matplotlib.pyplot as plt\n",
    "plt.rcParams['figure.figsize'] = [10, 10]\n",
    "#%matplotlib notebook"
   ]
  },
  {
   "cell_type": "markdown",
   "metadata": {},
   "source": [
    "### Other"
   ]
  },
  {
   "cell_type": "code",
   "execution_count": null,
   "metadata": {},
   "outputs": [],
   "source": [
    "import itertools"
   ]
  },
  {
   "cell_type": "markdown",
   "metadata": {},
   "source": [
    "## Vectors and Positioning\n",
    "https://en.wikipedia.org/wiki/Vector_(mathematics_and_physics)  \n",
    "https://en.wikipedia.org/wiki/Vector_space  \n",
    "https://en.wikipedia.org/wiki/Space_(mathematics)  \n",
    "For our purposes here we will be looking at how vectors can define position within a space (particularly a continuous Euclidean space).  \n",
    "Vectors are a key tool in describing position, therefore are ubiquitous in computer graphics (as well as many other fields of computer science)."
   ]
  },
  {
   "cell_type": "markdown",
   "metadata": {},
   "source": [
    "### 1-Dimensional Vectors\n",
    "2D vectors require 1 value to define them (an x coordinate)  \n",
    "Typically we write this mathematically as  \n",
    "$$ \\vec{v} = \\begin{bmatrix} v_{x} \\end{bmatrix} $$\n",
    "We will display here a 1D vector in the x number line  \n",
    "Note the ticks showing how the component makes up the vector  "
   ]
  },
  {
   "cell_type": "code",
   "execution_count": null,
   "metadata": {},
   "outputs": [],
   "source": [
    "# Edit this vector!\n",
    "vec_1d = np.array([1])\n",
    "\n",
    "# 1D Plotting setup\n",
    "ax = plt.axes()\n",
    "ax.scatter(*vec_1d, 0)\n",
    "ax.quiver(*vec_1d, 0, scale_units='xy', scale=1)\n",
    "\n",
    "margin = 1.2\n",
    "lims_1d = (min(0,*vec_1d*margin), max(0,*vec_1d*margin))\n",
    "ax.set_xlim(lims_1d)\n",
    "ax.axhline(color='k')\n",
    "ax.yaxis.set_ticks([])\n",
    "ax.grid(True)\n",
    "ax.set_xlabel('x')\n",
    "plt.show()"
   ]
  },
  {
   "cell_type": "markdown",
   "metadata": {},
   "source": [
    "### 2-Dimensional Vectors\n",
    "2D vectors require 2 values to define them (an x and y coordinate)  \n",
    "Typically we write this mathematically as  \n",
    "$$ \\vec{v} = \\begin{bmatrix} v_{x}\\\\ v_{y} \\end{bmatrix} $$\n",
    "We will display here a 2D vector in the xy-plane  \n",
    "Note the dashed lines showing how the components make up the vector"
   ]
  },
  {
   "cell_type": "code",
   "execution_count": null,
   "metadata": {},
   "outputs": [],
   "source": [
    "# Edit this vector!\n",
    "vec_2d = np.array([1, 2])\n",
    "\n",
    "# 2D Plotting setup\n",
    "ax = plt.axes()\n",
    "ax.scatter(*vec_2d)\n",
    "ax.quiver(*vec_2d, scale_units='xy', scale=1)\n",
    "\n",
    "for head,tail in itertools.combinations(itertools.product([0, 1], repeat=2), 2):\n",
    "    head = np.array(head)\n",
    "    tail = np.array(tail)\n",
    "    if np.count_nonzero(head-tail)<=1:\n",
    "        line = np.stack((vec_2d*head, vec_2d*tail))\n",
    "        ax.plot(*line.T, '--')\n",
    "\n",
    "margin = 1.2\n",
    "lims_2d = (min(0,*vec_2d*margin), max(0,*vec_2d*margin))\n",
    "ax.axis([*lims_2d, *lims_2d])\n",
    "ax.axhline(color='k')\n",
    "ax.axvline(color='k')\n",
    "ax.set_aspect('equal')\n",
    "ax.grid(True)\n",
    "ax.set_xlabel('x')\n",
    "ax.set_ylabel('y')\n",
    "plt.show()"
   ]
  },
  {
   "cell_type": "markdown",
   "metadata": {},
   "source": [
    "### 3-Dimensional Vectors\n",
    "3D vectors require 3 values to define them (an x, a y and a z coordinate)  \n",
    "Typically we write this mathematically as  \n",
    "$$ \\vec{v} = \\begin{bmatrix} v_{x}\\\\ v_{y}\\\\ v_{z} \\end{bmatrix} $$\n",
    "We will display here a 3D vector in the xyz-space  \n",
    "Note the dashed lines showing how the components make up the vector"
   ]
  },
  {
   "cell_type": "code",
   "execution_count": null,
   "metadata": {},
   "outputs": [],
   "source": [
    "# Edit this vector!\n",
    "vec_3d = np.array([1, 2, 3])\n",
    "\n",
    "# 3D Plotting setup\n",
    "ax = plt.axes(projection='3d')\n",
    "\n",
    "ax.scatter(*vec_3d)\n",
    "plt.quiver(0,0,0,*vec_3d, color='k', arrow_length_ratio=0.05)\n",
    "\n",
    "for head,tail in itertools.combinations(itertools.product([0, 1], repeat=3), 2):\n",
    "    head = np.array(head)\n",
    "    tail = np.array(tail)\n",
    "    if np.count_nonzero(head-tail)<=1:\n",
    "        line = np.stack((vec_3d*head, vec_3d*tail))\n",
    "        ax.plot(*line.T, '--')\n",
    "\n",
    "margin = 1.2\n",
    "zero = (0,0)\n",
    "lims_3d = (min(0,*vec_3d*margin), max(0,*vec_3d*margin))\n",
    "ax.set_xlim3d(*lims_3d)\n",
    "ax.plot(lims_3d,zero,zero, color='k')\n",
    "ax.set_ylim3d(*lims_3d)\n",
    "ax.plot(zero,lims_3d,zero, color='k')\n",
    "ax.set_zlim3d(*lims_3d)\n",
    "ax.plot(zero,zero,lims_3d, color='k')\n",
    "ax.set_xlabel('x')\n",
    "ax.set_ylabel('y')\n",
    "ax.set_zlabel('z')\n",
    "#ax.view_init(elev=45, azim=15)\n",
    "plt.show()"
   ]
  },
  {
   "cell_type": "markdown",
   "metadata": {},
   "source": [
    "## Projections\n",
    "https://en.wikipedia.org/wiki/3D_projection  \n",
    "https://en.wikipedia.org/wiki/Viewing_frustum  \n",
    "### Orthogonal Projection\n",
    "https://en.wikipedia.org/wiki/Projection_(linear_algebra)  \n",
    "https://en.wikipedia.org/wiki/Scalar_projection  \n",
    "https://en.wikipedia.org/wiki/Vector_projection  \n",
    "https://en.wikipedia.org/wiki/Dot_product  \n",
    "The orthogonal projection of a vector $\\vec{v}$ onto vector $\\vec{p}$ is intuitively described as the \"shadow\" cast by $\\vec{v}$ onto $\\vec{p}$.  \n",
    "There are two forms: the **vector projection** which returns a vector, and the **scalar projection** which returns the maginitude of that vector.  \n",
    "The formula for the scalar projection of vector $\\vec{v}$ onto vector $\\vec{p}$ is given by the formula:  \n",
    "$$ \\mathrm{proj}_{\\vec{p}} \\left ( \\vec{v} \\right ) = \\frac{\\vec{v} \\cdot \\vec{p}}{\\left \\| \\vec{p} \\right \\|} $$\n",
    "The formula for the vector projection of vector $\\vec{v}$ onto vector $\\vec{p}$ is given by the formula:  \n",
    "$$ \\vec{\\mathrm{proj}}_{\\vec{p}} \\left ( \\vec{v} \\right ) = \\left ( \\frac{\\vec{v} \\cdot \\vec{p}}{\\left \\| \\vec{p} \\right \\| ^{2}} \\right ) \\vec{p}$$  \n",
    "We will display $\\vec{v}$ and $\\vec{p}$ in 3D space, and the vector projection $\\vec{\\mathrm{proj}}_{\\vec{p}} \\left ( \\vec{v} \\right )$.  \n",
    "Note how $\\vec{\\mathrm{proj}}_{\\vec{p}} \\left ( \\vec{v} \\right )$ is collinear with $\\vec{p}$  \n",
    "Note the dashed line showing the difference between $\\vec{v}$ and $\\vec{\\mathrm{proj}}_{\\vec{p}} \\left ( \\vec{v} \\right )$"
   ]
  },
  {
   "cell_type": "code",
   "execution_count": null,
   "metadata": {},
   "outputs": [],
   "source": [
    "# Edit these vectors!\n",
    "v = np.array([1, 2, 3])\n",
    "p = np.array([3, 2, 1])\n",
    "\n",
    "# The calculation\n",
    "proj = (np.dot(v,p) / np.linalg.norm(p)**2 ) * p \n",
    "\n",
    "# 3D Plotting setup\n",
    "ax = plt.axes(projection='3d')\n",
    "\n",
    "t_offset = 0.02*np.max(np.abs(v))\n",
    "\n",
    "ax.scatter(*v)\n",
    "plt.quiver(0,0,0,*v, color='k', arrow_length_ratio=0.05)\n",
    "ax.text(*(v+t_offset), 'v')\n",
    "\n",
    "ax.scatter(*p)\n",
    "plt.quiver(0,0,0,*p, color='k', arrow_length_ratio=0.05)\n",
    "ax.text(*(p+t_offset), 'p')\n",
    "\n",
    "ax.scatter(*proj)\n",
    "plt.quiver(0,0,0,*proj, color='b', arrow_length_ratio=0.05)\n",
    "ax.text(*(proj+t_offset), 'proj')\n",
    "\n",
    "# The difference\n",
    "ax.plot(*np.stack((v,proj)).T, '--')\n",
    "\n",
    "\n",
    "margin = 1.2\n",
    "zero = (0,0)\n",
    "lims_3d = (min(0,*v*margin,*p*margin), max(0,*v*margin,*p*margin))\n",
    "ax.set_xlim3d(*lims_3d)\n",
    "ax.plot(lims_3d,zero,zero, color='k')\n",
    "ax.set_ylim3d(*lims_3d)\n",
    "ax.plot(zero,lims_3d,zero, color='k')\n",
    "ax.set_zlim3d(*lims_3d)\n",
    "ax.plot(zero,zero,lims_3d, color='k')\n",
    "ax.set_xlabel('x')\n",
    "ax.set_ylabel('y')\n",
    "ax.set_zlabel('z')\n",
    "#ax.view_init(elev=30, azim=15)\n",
    "plt.show()"
   ]
  },
  {
   "cell_type": "code",
   "execution_count": null,
   "metadata": {},
   "outputs": [],
   "source": []
  },
  {
   "cell_type": "code",
   "execution_count": null,
   "metadata": {},
   "outputs": [],
   "source": []
  },
  {
   "cell_type": "code",
   "execution_count": null,
   "metadata": {},
   "outputs": [],
   "source": []
  },
  {
   "cell_type": "code",
   "execution_count": null,
   "metadata": {},
   "outputs": [],
   "source": []
  },
  {
   "cell_type": "code",
   "execution_count": null,
   "metadata": {},
   "outputs": [],
   "source": []
  },
  {
   "cell_type": "markdown",
   "metadata": {},
   "source": [
    "## Ray Tracing\n",
    "https://en.wikipedia.org/wiki/Ray_tracing_(graphics)  \n"
   ]
  },
  {
   "cell_type": "code",
   "execution_count": null,
   "metadata": {},
   "outputs": [],
   "source": []
  },
  {
   "cell_type": "code",
   "execution_count": null,
   "metadata": {},
   "outputs": [],
   "source": []
  },
  {
   "cell_type": "code",
   "execution_count": null,
   "metadata": {},
   "outputs": [],
   "source": []
  }
 ],
 "metadata": {
  "kernelspec": {
   "display_name": "Python 3",
   "language": "python",
   "name": "python3"
  },
  "language_info": {
   "codemirror_mode": {
    "name": "ipython",
    "version": 3
   },
   "file_extension": ".py",
   "mimetype": "text/x-python",
   "name": "python",
   "nbconvert_exporter": "python",
   "pygments_lexer": "ipython3",
   "version": "3.7.6"
  }
 },
 "nbformat": 4,
 "nbformat_minor": 2
}
