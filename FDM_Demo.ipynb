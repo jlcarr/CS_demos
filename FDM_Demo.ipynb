{
 "cells": [
  {
   "cell_type": "markdown",
   "metadata": {},
   "source": [
    "# Finite Difference Methods\n",
    "## Introduction"
   ]
  },
  {
   "cell_type": "markdown",
   "metadata": {},
   "source": [
    "### Definitions\n",
    "https://en.wikipedia.org/wiki/Numerical_methods_for_partial_differential_equations\n",
    "#### Partial differential equations (PDEs)\n",
    "https://en.wikipedia.org/wiki/Partial_differential_equation  \n",
    "Partial differential equations (PDEs) are equations involving the partial differential of one or more of their terms. Often these partial dertivatives are in terms of space and time. Often these equations are used to model real world phenomena, particularly in continuum mechanics, such as material stresses, body forces, heat flow, electromagnetic fields, etc.\n",
    "\n",
    "#### Finitie Difference Methods (FDMs)\n",
    "https://en.wikipedia.org/wiki/Finite_difference_method  \n",
    "Finitie Difference Methods (FDMs) are numerical methods for solving PDEs that use Taylor expansions of the partial derivatives to make approximations of the solution with a finitely small discretization of domain.\n",
    "\n",
    "#### Finitie Element Methods (FEMs)\n",
    "https://en.wikipedia.org/wiki/Finite_element_method  \n",
    "Finitie Element Methods (FEMs) are similar to FDMs, but generalize to more complex geometry and allow specification of the discretization into a mesh."
   ]
  },
  {
   "cell_type": "markdown",
   "metadata": {},
   "source": [
    "### Tools\n",
    "#### NumPy\n",
    "https://numpy.org/  \n",
    "https://en.wikipedia.org/wiki/NumPy  \n",
    "NumPy is a scientific computing package that is designed to provide a robust n-dimensional array object and a suite of optimized linear algebra algorithms.  \n",
    "It is the backbone of almost all Python scientific computing packages.  "
   ]
  },
  {
   "cell_type": "code",
   "execution_count": null,
   "metadata": {},
   "outputs": [],
   "source": [
    "import numpy as np\n",
    "import scipy.ndimage, scipy.linalg"
   ]
  },
  {
   "cell_type": "markdown",
   "metadata": {},
   "source": [
    "#### Matplotlib\n",
    "https://matplotlib.org/  \n",
    "https://en.wikipedia.org/wiki/Matplotlib  \n",
    "Matplotlib is a plotting package that is designed to provide a suite of standard plotting and visualization tools.  "
   ]
  },
  {
   "cell_type": "code",
   "execution_count": null,
   "metadata": {},
   "outputs": [],
   "source": [
    "# Matplotlib is used to render visualizations of the solution\n",
    "from matplotlib import pyplot as plt\n",
    "from matplotlib.animation import FuncAnimation\n",
    "from IPython.display import HTML\n",
    "%matplotlib inline"
   ]
  },
  {
   "cell_type": "markdown",
   "metadata": {},
   "source": [
    "## PDE Problems\n",
    "### Classification of PDES\n",
    "#### Order\n",
    "The order of a PDE is the order of the highest derivative in its expression\n",
    "$$ F \\left ( \\vec{x}, u, \\frac{\\partial u}{\\partial \\vec{x}}, ..., \\frac{\\partial^{n-1} u}{\\partial \\vec{x}^{n-1}}, \\frac{\\partial^{n} u}{\\partial \\vec{x}^{n}} \\right ) = 0 $$\n",
    "Where:\n",
    "- $u$ is the dependant variable (a multi-variate function of $\\vec{x}$)\n",
    "- $\\vec{x}$ is the (vector-valued) independant variable\n",
    "- $\\frac{\\partial^{i} u}{\\partial \\vec{x}^{i}}$ is the $i$th order partial derivative of the dependant variable, $u$, with respect to the elements of the independant variable $\\vec{x}$\n",
    "- $n$ is the order of the PDE\n",
    "\n",
    "#### Linearity\n",
    "A PDE is **linear** if its expression is linear in the dependant variable and its derivatives.\n",
    "$$ \\sum_{i} \\sum_{j} a_{i,j} \\frac{\\partial^{j} u}{\\partial x_{i}^{j}} = f \\left ( \\vec{x} \\right ) $$\n",
    "Where:\n",
    "- $u$ is the dependant variable (a multi-variate function of $\\vec{x}$)\n",
    "- $\\vec{x}$ is the (vector-valued) independant variable\n",
    "- $x_{i}$ is the $i$th element of the vector-valued independant variable, $\\vec{x}$\n",
    "- $\\frac{\\partial^{j} u}{\\partial x_{i}^{j}}$ is the $j$th partial derivative of the dependant variable, $u$, with respect to $x_{i}$\n",
    "- $a_{i,j}$ is a coefficient, which can be a function of the dependant variable $\\vec{x}$\n",
    "- $f \\left ( \\vec{x} \\right )$ is a (multi-variate) function\n",
    "\n",
    "#### Notable Special Case: Elliptic PDES\n",
    "https://en.wikipedia.org/wiki/Elliptic_partial_differential_equation  \n",
    "\n",
    "#### Notable Special Case: Parabolic PDES\n",
    "https://en.wikipedia.org/wiki/Parabolic_partial_differential_equation  \n",
    "\n",
    "#### Notable Special Case: Hyperbolic PDES\n",
    "https://en.wikipedia.org/wiki/Hyperbolic_partial_differential_equation\n",
    "\n",
    "### Boundary Conditions\n",
    "Then the boundary conditions further specify the problem\n",
    "#### Dirichlet\n",
    "https://en.wikipedia.org/wiki/Dirichlet_boundary_condition  \n",
    "Fixed-value boundary conditions\n",
    "$$\\forall \\vec{x} \\in \\partial \\Omega$$\n",
    "$$u\\left (\\vec{x}\\right ) = g\\left (\\vec{x}\\right )$$\n",
    "\n",
    "#### Neumann\n",
    "https://en.wikipedia.org/wiki/Neumann_boundary_condition  \n",
    "Fixed-derivative boundary conditions\n",
    "$$\\forall \\vec{x} \\in \\partial \\Omega$$\n",
    "$$\\frac{\\partial u}{\\partial \\vec{n}} \\left (\\vec{x}\\right ) = g\\left (\\vec{x}\\right )$$\n",
    "\n",
    "#### Robin\n",
    "https://en.wikipedia.org/wiki/Robin_boundary_condition  \n",
    "A weighted-combination of Dirichlet and Neumann boundary conditions\n",
    "$$\\forall \\vec{x} \\in \\partial \\Omega$$\n",
    "$$a \\frac{\\partial u}{\\partial \\vec{n}} \\left (\\vec{x}\\right ) + b u\\left (\\vec{x}\\right )= g\\left (\\vec{x}\\right )$$\n",
    "\n",
    "#### Cauchy\n",
    "https://en.wikipedia.org/wiki/Cauchy_boundary_condition  \n",
    "Both a Dirichlet condition and a Neumann condition (for second order problems)\n",
    "$$\\forall \\vec{x} \\in \\partial \\Omega$$\n",
    "$$u\\left (\\vec{x}\\right ) = g_{1}\\left ( \\vec{x} \\right )$$\n",
    "and\n",
    "$$\\frac{\\partial u}{\\partial \\vec{n}} \\left ( \\vec{x} \\right ) = g_{2}\\left (\\vec{x}\\right )$$\n",
    "\n",
    "#### Mixed\n",
    "Uses Dirichlet and Neumann on different parts of the boundary\n",
    "$$\\Gamma_{1} \\cup \\Gamma_{2} = \\partial \\Omega$$\n",
    "$$\\forall \\vec{x}_{1} \\in \\Gamma_{1}$$\n",
    "$$u\\left ( \\vec{x}_{1} \\right ) = g_{1}\\left ( \\vec{x}_{1} \\right )$$\n",
    "and\n",
    "$$\\forall \\vec{x}_{2} \\in \\Gamma_{2}$$\n",
    "$$\\frac{\\partial u}{\\partial \\vec{n}} \\left ( \\vec{x}_{2} \\right ) = g_{2}\\left ( \\vec{x}_{2} \\right )$$"
   ]
  },
  {
   "cell_type": "markdown",
   "metadata": {},
   "source": [
    "## A Simple Example: The Heat Equation\n",
    "### Problem Definition\n",
    "Let's study a simple example of the heat equation with constant boundaries.\n",
    "- **class**: Linear 2nd order, parabolic (i.e. the heat equation)\n",
    "- **dimension**: 2 (1 time + 1 space)\n",
    "- **boundaries**: Dirichlet (IVP in time, fixed boundary in space)\n",
    "\n",
    "The problem can therefore be written:\n",
    "$$ \\frac{\\partial u}{\\partial t} - \\alpha  \\frac{\\partial^2 u}{\\partial x^2} = f\\left ( t, x \\right ) $$\n",
    "Subject to\n",
    "$$ u\\left ( 0, x \\right ) = g_{0} \\left ( x \\right )$$\n",
    "$$ u\\left ( t, x_{1} \\right ) = h_{1} $$\n",
    "$$ u\\left ( t, x_{2} \\right ) = h_{2} $$\n",
    "\n",
    "### Solution Method\n",
    "Forward-Euler will be used for this numerical solution/simulation.  \n",
    "#### Discretization\n",
    "$$ t \\rightarrow i $$\n",
    "$$ x \\rightarrow j $$\n",
    "$$ u\\left ( t, x \\right ) \\rightarrow u_{i,j} $$  \n",
    "\n",
    "$$ \\frac{\\partial u}{\\partial t} - \\alpha  \\frac{\\partial^2 u}{\\partial x^2} = f\\left ( t, x \\right ) \\rightarrow \\frac{u_{i+1,j}-u_{i,j}}{\\Delta t} - \\alpha \\frac{u_{i,j+1} + u_{i,j-1} - 2 u_{i,j}}{\\Delta x ^{2}} = f_{i,j} $$  \n",
    "\n",
    "Isolating we obtain\n",
    "$$u_{i+1,j} = u_{i,j} + \\frac{\\alpha \\Delta t }{\\Delta x ^{2}} \\left ( u_{i,j+1} + u_{i,j-1} - 2 u_{i,j} \\right ) + \\Delta t f_{i,j} $$  \n",
    "$$ u_{0,j} = g_{0,j}$$\n",
    "$$ u_{i,0} = h_{1}$$\n",
    "$$ u_{i,N-1} = h_{2}$$  "
   ]
  },
  {
   "cell_type": "markdown",
   "metadata": {},
   "source": [
    "#### Simulation Parameters\n",
    "Edit these!"
   ]
  },
  {
   "cell_type": "code",
   "execution_count": null,
   "metadata": {},
   "outputs": [],
   "source": [
    "# Define the source term\n",
    "f = lambda t,x: 0*x*t\n",
    "a = 0.1\n",
    "\n",
    "# Set up domain parameters\n",
    "x_1 = -3\n",
    "x_2 = 3\n",
    "\n",
    "t_f = 20\n",
    "\n",
    "# Boundary conditions\n",
    "h_1 = 0\n",
    "h_2 = 0\n",
    "g_0 = lambda x: np.sin(2*np.pi * x / (x_2 - x_1))\n",
    "#g_0 = lambda x: np.exp(-(2*np.pi*x / (x_2 - x_1))**2)"
   ]
  },
  {
   "cell_type": "code",
   "execution_count": null,
   "metadata": {},
   "outputs": [],
   "source": [
    "# Set up mesh discretization parameters\n",
    "N_x = 20+1\n",
    "N_t = 100"
   ]
  },
  {
   "cell_type": "markdown",
   "metadata": {},
   "source": [
    "#### Set Up and Solving"
   ]
  },
  {
   "cell_type": "code",
   "execution_count": null,
   "metadata": {},
   "outputs": [],
   "source": [
    "# Create the grid\n",
    "dx = (x_2 - x_1) / float(N_x)\n",
    "dt = t_f / float(N_t)\n",
    "\n",
    "# Construct discrete domain\n",
    "x = np.linspace(x_1, x_2, N_x)\n",
    "t = np.linspace(0, t_f, N_t)\n",
    "\n",
    "# Initialize the discrete solution\n",
    "u = np.zeros((N_t, N_x))\n",
    "\n",
    "# Create the discretized source term\n",
    "#f_ij = np.fromfunction(lambda i,j: f(t[i],x[j]),(N_t,N_x), dtype=int)\n",
    "\n",
    "# Fill in the boundary conditions\n",
    "# IVP\n",
    "u[0,:] = g_0(x)\n",
    "# Boundaries\n",
    "u[:,0] = h_1\n",
    "u[:,-1] = h_2"
   ]
  },
  {
   "cell_type": "code",
   "execution_count": null,
   "metadata": {},
   "outputs": [],
   "source": [
    "# Perform a simple forward-Euler iterative loop to solve\n",
    "for i in range(N_t-1):\n",
    "    u[i+1,1:-1] = u[i,1:-1] + (a*dt/dx/dx) * (u[i,:-2] + u[i,2:] - 2*u[i,1:-1]) + dt*f(t[i],x[1:-1])"
   ]
  },
  {
   "cell_type": "markdown",
   "metadata": {},
   "source": [
    "#### Visualize the Result"
   ]
  },
  {
   "cell_type": "code",
   "execution_count": null,
   "metadata": {},
   "outputs": [],
   "source": [
    "fig, ax = plt.subplots()\n",
    "ln, = plt.plot(x, u[0,:], animated=True)\n",
    "\n",
    "def init():\n",
    "    ln.set_data(x,u[0,:])\n",
    "    return ln,\n",
    "\n",
    "def update(frame_n):\n",
    "    ln.set_data(x, u[frame_n,:])\n",
    "    return ln,\n",
    "\n",
    "t_anim = 5\n",
    "anim = FuncAnimation(fig, update, frames=N_t, init_func=init, blit=True, interval = t_anim*1000/N_t, repeat=True)\n",
    "plt.close()\n",
    "HTML(anim.to_jshtml())"
   ]
  },
  {
   "cell_type": "markdown",
   "metadata": {},
   "source": [
    "## A Further Example: The Wave Equation\n",
    "TODO: Write ou the discretization of the wave equation and explain the process of contruction the matrices"
   ]
  },
  {
   "cell_type": "code",
   "execution_count": null,
   "metadata": {},
   "outputs": [],
   "source": [
    "# Initialize the equations and vector\n",
    "col = []\n",
    "eqs = []"
   ]
  },
  {
   "cell_type": "code",
   "execution_count": null,
   "metadata": {},
   "outputs": [],
   "source": [
    "# differential equation definition\n",
    "for i in range(1,N_t):\n",
    "    for j in range(1,N_x-1):\n",
    "        mat = np.zeros((N_t, N_x))\n",
    "        mat[i,j] = 1\n",
    "        mat[i-1,j] = -1 + (a*dt/dx/dx) * 2\n",
    "        mat[i-1,j+1] = -(a*dt/dx/dx)\n",
    "        mat[i-1,j-1] = -(a*dt/dx/dx)\n",
    "        eqs.append(mat)\n",
    "        col.append(f(t[i],x[j]))"
   ]
  },
  {
   "cell_type": "code",
   "execution_count": null,
   "metadata": {},
   "outputs": [],
   "source": [
    "# IVP\n",
    "for j in range(0,N_x):\n",
    "    mat = np.zeros((N_t, N_x))\n",
    "    mat[0,j] = 1\n",
    "    eqs.append(mat)\n",
    "    col.append(g_0(x[j]))"
   ]
  },
  {
   "cell_type": "code",
   "execution_count": null,
   "metadata": {},
   "outputs": [],
   "source": [
    "# bounds\n",
    "for i in range(1,N_t):\n",
    "    mat = np.zeros((N_t, N_x))\n",
    "    mat[i,0] = 1\n",
    "    eqs.append(mat)\n",
    "    col.append(h_1)\n",
    "for i in range(1,N_t):\n",
    "    mat = np.zeros((N_t, N_x))\n",
    "    mat[i,-1] = 1\n",
    "    eqs.append(mat)\n",
    "    col.append(h_2)"
   ]
  },
  {
   "cell_type": "code",
   "execution_count": null,
   "metadata": {},
   "outputs": [],
   "source": [
    "# Reshape \n",
    "eqs = np.array(eqs)\n",
    "col = np.array(col)\n",
    "eqs = np.reshape(eqs,(N_t*N_x, N_t*N_x))\n",
    "u = np.linalg.solve(eqs,col)\n",
    "u = np.reshape(u, (N_t,N_x))"
   ]
  },
  {
   "cell_type": "code",
   "execution_count": null,
   "metadata": {},
   "outputs": [],
   "source": [
    "fig, ax = plt.subplots()\n",
    "ln, = plt.plot(x, u[0,:], animated=True)\n",
    "\n",
    "def init():\n",
    "    ln.set_data(x,u[0,:])\n",
    "    return ln,\n",
    "\n",
    "def update(frame_n):\n",
    "    ln.set_data(x, u[frame_n,:])\n",
    "    return ln,\n",
    "\n",
    "t_anim = 5\n",
    "anim = FuncAnimation(fig, update, frames=N_t, init_func=init, blit=True, interval = t_anim*1000/N_t, repeat=True)\n",
    "plt.close()\n",
    "HTML(anim.to_jshtml())"
   ]
  },
  {
   "cell_type": "code",
   "execution_count": null,
   "metadata": {},
   "outputs": [],
   "source": []
  }
 ],
 "metadata": {
  "kernelspec": {
   "display_name": "Python 3",
   "language": "python",
   "name": "python3"
  },
  "language_info": {
   "codemirror_mode": {
    "name": "ipython",
    "version": 3
   },
   "file_extension": ".py",
   "mimetype": "text/x-python",
   "name": "python",
   "nbconvert_exporter": "python",
   "pygments_lexer": "ipython3",
   "version": "3.8.5"
  }
 },
 "nbformat": 4,
 "nbformat_minor": 4
}
