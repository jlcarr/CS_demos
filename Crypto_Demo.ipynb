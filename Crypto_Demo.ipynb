{
 "cells": [
  {
   "cell_type": "markdown",
   "metadata": {},
   "source": [
    "# Cryptography"
   ]
  },
  {
   "cell_type": "markdown",
   "metadata": {},
   "source": [
    "## Key Exchange\n",
    "In cryptography, especially key exchange, we have 3 main characters:\n",
    "* Party **A** aka **Alice**\n",
    "* Party **B** aka **Bob**\n",
    "* Evesdropper **E** aka **Eve**\n",
    "\n",
    "The idea behind key exchange is for **Alice** and **Bob** to communicate over an insecure public channel, which is monitored by **Eve**, but still be able to exchange a **shared private key** which **Eve** is unable to figure out.\n",
    "\n",
    "How can this be accomplished?"
   ]
  },
  {
   "cell_type": "markdown",
   "metadata": {},
   "source": [
    "## Diffie-Hellman symmetric key exchange\n",
    "https://en.wikipedia.org/wiki/Diffie%E2%80%93Hellman_key_exchange\n",
    "\n",
    "#### Step 1\n",
    "**Alice** and **Bob** publicly agree upon:\n",
    "* $p$: The **public modulus** which is a large prime number\n",
    "* $g$: The **public base** which is a primitive root of $p$\n",
    "\n",
    "Specifically, $g$ being a primitive root of $p$ means:\n",
    "$$ \t\\forall n \\quad \\exists k \\in \\mathbb{Z} \\quad g^{k}= n \\bmod p $$\n",
    "Which means that we now have a **shared private key-space** of size $p-1$. "
   ]
  },
  {
   "cell_type": "code",
   "execution_count": null,
   "metadata": {},
   "outputs": [],
   "source": [
    "# Public\n",
    "p = 23\n",
    "g = 5\n",
    "print(\"Shared public modulus: %s\" %p)\n",
    "print(\"Shared public base: %s\" %g)"
   ]
  },
  {
   "cell_type": "markdown",
   "metadata": {},
   "source": [
    "#### Step 2\n",
    "**Alice** and **Bob** privately select their **private keys**:\n",
    "* $a$: **A's private key** which is an integer that only **Alice** will know\n",
    "* $b$: **B's private key** which is an integer that only **Bob** will know\n",
    "\n",
    "These numbers can take on the values of any integer. Specifically:\n",
    "$$ \ta,b \\in \\mathbb{Z} $$\n",
    "But only $p-1$ choices lead to unique public keys. The idea is that $a$ and $b$ from a **private key-space** that is large, so as to make it infeasible to brute-force guess it."
   ]
  },
  {
   "cell_type": "code",
   "execution_count": null,
   "metadata": {},
   "outputs": [],
   "source": [
    "# Private for A\n",
    "a = 4\n",
    "# Private for B\n",
    "b = 3\n",
    "\n",
    "print(\"A's private key: %s\" % a)\n",
    "print(\"B's private key: %s\" % b)"
   ]
  },
  {
   "cell_type": "markdown",
   "metadata": {},
   "source": [
    "#### Step 3\n",
    "**Alice** and **Bob** privately calculate their **shared public keys** as follows:\n",
    "* $A = g^{a} \\bmod p$: **A's public key**\n",
    "* $B = g^{b} \\bmod p$: **B's public key**\n",
    "\n",
    "These numbers can take on the values of an integer between $0$ and $p-1$."
   ]
  },
  {
   "cell_type": "code",
   "execution_count": null,
   "metadata": {},
   "outputs": [],
   "source": [
    "# Private for A\n",
    "A = pow(g, a, p)\n",
    "print(\"A's public key: %s\" % A)\n",
    "# Private for B\n",
    "B = pow(g, b, p)\n",
    "print(\"B's public key: %s\" % B)"
   ]
  },
  {
   "cell_type": "markdown",
   "metadata": {},
   "source": [
    "#### Step 4\n",
    "**Alice** and **Bob** publicly exchange their **shared public keys** $A$ and $B$  \n",
    "Note that **Eve** is able to see this information, but is unable to deduce neither of the **private keys** $a$ nor $b$ from these **public keys** $A$ and $B$, due to the complexity of the discrete-logarithm problem.\n",
    "\n",
    "#### Step 5\n",
    "**Alice** and **Bob** privately calculate their **shared private key** as follows:\n",
    "$$\\begin{aligned} s &= B^{a} \\bmod p \\\\ &=  (g^{b})^{a} \\bmod p \\\\ &= (g^{a})^{b} \\bmod p \\\\ &= A^{b} \\bmod p \\end{aligned}$$\n",
    "\n",
    "Note in the above equation how **Alice** and **Bob** arrive at the same **shared private key**. Thus **Alice** and **Bob** have successfully shared information that both know, but **Eve** cannot deduce, despite having witnessed all communication between the two.\n",
    "\n",
    "This is the fundamental basis for modern cryptography."
   ]
  },
  {
   "cell_type": "code",
   "execution_count": null,
   "metadata": {},
   "outputs": [],
   "source": [
    "# Private for A\n",
    "s = pow(B, a, p)\n",
    "print(\"A's shared private key: %s\" % s)\n",
    "# Private for B\n",
    "s = pow(A, b, p)\n",
    "print(\"B's shared private key: %s\" % s)"
   ]
  },
  {
   "cell_type": "markdown",
   "metadata": {},
   "source": [
    "### Evaluation of computational time\n",
    "\n",
    "Given the **private key-space** has $p-1$ possibilities, it takes on the order of that many trials to brute force the key.  \n",
    "Therefore if $p$ is a $256$ bit number it would take on the order of $2^{256} \\approx 10^{77}$ trials to brute force the key.  \n",
    "\n",
    "#### How Large Is This?  \n",
    "Today all supercomputers combined can bearly break $1$ exaFLOPS = $10^{18}$ FLOPS.  \n",
    "Therefore even if we assumed 1 modular exponentiation trial $\\approx$ 1 FLOP  \n",
    "We'd still be on the order of $10^{59}$s  \n",
    "One year is approx $10^{7}$s, so we're still on the order of $10^{52}$ years.  \n",
    "The age of the universe itself is on the order of $10^{11}$ years.\n",
    "\n",
    "#### Bremermann's Limit\n",
    "https://en.wikipedia.org/wiki/Bremermann%27s_limit  \n",
    "https://en.wikipedia.org/wiki/Transcomputational_problem  \n",
    "There are physical limits of computation in our universe.  \n",
    "In particular Bremermann's limit gives the maximum rate of computation for a computer of a given mass. This limit's value is derived from the maximum information contents, by the Heisenberg uncertainty principle, and rate of information propagation by the speed of light.  \n",
    "The result is:  \n",
    "$$ \\dot{I}_{\\mathrm{max}} = \\frac{c^2}{h} \\approx 1.36 \\times 10^{50} \\frac{\\mathrm{bits}}{\\mathrm{s} \\cdot \\mathrm{kg}} $$  \n",
    "Where:  \n",
    "- $\\dot{I}_{\\mathrm{max}}$ is the maxium rate of computation\n",
    "- $c$ is the speed of ligth\n",
    "- $h$ is Planck's constant\n",
    "\n",
    "Therefore, if we had a perfectly build computer with the mass of the earth ($ m_e = 5.972 \\times 10^{24} \\mathrm{kg} $), it would still take 2 full minutes to crack a $256$ bit key, but $10^{77}$ years to crack a $512$ bit key."
   ]
  },
  {
   "cell_type": "markdown",
   "metadata": {},
   "source": [
    "## Data Encryption\n",
    "https://en.wikipedia.org/wiki/Encryption  \n",
    "https://en.wikipedia.org/wiki/Substitution%E2%80%93permutation_network  \n",
    "https://en.wikipedia.org/wiki/S-box  \n",
    "Basic idea is to use the key to scramble the text in a high-entropy way that isn't reversible unless you know the key.  \n",
    "Modern techniques involve breaking the **plaintext** down into fixed size **blocks** (adding **padding** as nessary).  \n",
    "\n",
    "### Substitution Ciphers\n",
    "https://en.wikipedia.org/wiki/Classical_cipher  \n",
    "Classical encryption was done by simply substituting letters with a reversible rule, this is known as a **cipher**.  \n",
    "Examples include:\n",
    "- **Transpositon ciphers**: substitutions by simply rotating the alphabet, as with a codewheel\n",
    "   - **The Caesar cipher**: Letters are replaced by the letter 3 before them\n",
    "   - **ROT13**: Letters are replace by the furthest letter in the circular alphabet\n",
    "- **General substitution ciphers**: defined by any permutation of letters.\n",
    "\n",
    "#### Code Breaking\n",
    "Transposition ciphers have $26$ choices (including the identity), which is trivial to **brute force**.  \n",
    "However substitution ciphers have $26! \\approx 4.039 \\times 10^{26}$ choices, which is not impossible to brute force, but still not doable on home computers.  \n",
    "\n",
    "So, how can we do better?  \n",
    "\n",
    "The answer is to be clever, and look at the structure of the cipher text and look for patterns.  \n",
    "Indeed humans are easily capable of cracking substitution ciphers, and they are often given as puzzles in magazines, where they are called **cryptogram**.  \n",
    "\n",
    "The simplest approach, however, is **frequency analysis**.  \n",
    "By analysing the frequency of letters appearing in the ciphertext and comparing to the distribution of letters in the english langage, one can get a pretty good guess as to which letters are which.  \n",
    "\n",
    "#### Example"
   ]
  },
  {
   "cell_type": "code",
   "execution_count": null,
   "metadata": {},
   "outputs": [],
   "source": [
    "import pandas as pd\n",
    "import random"
   ]
  },
  {
   "cell_type": "markdown",
   "metadata": {},
   "source": [
    "First we shall construct a substritution cipher by shuffling an ordered list of the alphabet"
   ]
  },
  {
   "cell_type": "code",
   "execution_count": null,
   "metadata": {},
   "outputs": [],
   "source": [
    "letter_frequencies = {\"a\": 8.167, \"b\": 1.492, \"c\": 2.782, \"d\": 4.253, \"e\": 12.702, \"f\": 2.228, \"g\": 2.015, \"h\": 6.094, \"i\": 6.966, \n",
    "     \"j\": 0.153, \"k\": 0.772, \"l\": 4.025, \"m\": 2.406, \"n\": 6.749, \"o\": 7.507, \"p\": 1.929, \"q\": 0.095, \"r\": 5.987, \n",
    "     \"s\": 6.327, \"t\": 9.056, \"u\": 2.758, \"v\": 0.978, \"w\": 2.36, \"x\": 0.15, \"y\": 1.974, \"z\": 0.074}\n",
    "letters = list(letter_frequencies.keys())\n",
    "\n",
    "cipher = list(letter_frequencies.keys())\n",
    "random.shuffle(cipher)\n",
    "cipher = dict(zip(letters,cipher))\n",
    "\n",
    "print(cipher)"
   ]
  },
  {
   "cell_type": "markdown",
   "metadata": {},
   "source": [
    "Next use the cipher to encrypt our plaintext"
   ]
  },
  {
   "cell_type": "code",
   "execution_count": null,
   "metadata": {},
   "outputs": [],
   "source": [
    "plaintext = \"\"\"So, how can we do better?\n",
    "The answer is to be clever, and look at the structure of the cipher text and look for patterns.\n",
    "Indeed humans are easily capable of cracking substitution ciphers, and they are often given\n",
    "as puzzles in magazines, where they are called **cryptogram**.\n",
    "The simplest approach, however, is **frequency analysis**.\n",
    "By analysing the frequency of letters appearing in the ciphertext and comparing to the distribution of letters\n",
    "in the english langage, one can get a pretty good guess as to which letters are which. \"\"\".lower()\n",
    "\n",
    "ciphertext = ''.join(map(lambda c: cipher.get(c,c), plaintext))\n",
    "print(ciphertext)"
   ]
  },
  {
   "cell_type": "code",
   "execution_count": null,
   "metadata": {},
   "outputs": [],
   "source": [
    "freqs = {c:0 for c in letters}\n",
    "for c in ciphertext:\n",
    "    if c in freqs: freqs[c] += 1\n",
    "print(freqs)"
   ]
  },
  {
   "cell_type": "code",
   "execution_count": null,
   "metadata": {},
   "outputs": [],
   "source": [
    "df = pd.DataFrame({'plaintext': sorted(letter_frequencies.keys(), key=lambda c: letter_frequencies[c], reverse=True),\n",
    "                   'predicted_cipher': sorted(freqs.keys(), key=lambda c: freqs[c], reverse=True),\n",
    "                   'true_cipher': list(map(lambda k: cipher[k], sorted(letter_frequencies.keys(), key=lambda c: letter_frequencies[c], reverse=True))),\n",
    "                   'global_freq': sorted(letter_frequencies.values(), reverse=True),\n",
    "                   'cipher_freq': sorted(freqs.values(), reverse=True)\n",
    "                  })\n",
    "df['cipher_freq'] /= len(plaintext)/100\n",
    "print(df)"
   ]
  },
  {
   "cell_type": "code",
   "execution_count": null,
   "metadata": {},
   "outputs": [],
   "source": [
    "predicted_cipher = dict(zip(df['predicted_cipher'],df['plaintext']))\n",
    "\n",
    "predicted_plaintext = ''.join(map(lambda c: predicted_cipher.get(c,c), ciphertext))\n",
    "print(predicted_plaintext)"
   ]
  },
  {
   "cell_type": "markdown",
   "metadata": {},
   "source": [
    "### Advanced Encryption Standard (AES)\n",
    "https://en.wikipedia.org/wiki/Advanced_Encryption_Standard  \n",
    "https://en.wikipedia.org/wiki/Data_Encryption_Standard  \n",
    "AES was developped after it was alleged that the original DES (Data Encryption Standard) had been purposefully designed with a short key so as to allow the NSA to crack it with brute force.  \n",
    "There was also concern that some of the parameters (S-boxes) were chosen so as to construct a backdoor, however this hasn't been proven, and analysis shows the S-boxes were chosen to as to increase resistance against differential cyptography attacks, which had been discovered independently by several research groups (the NSA and IBM included) but was classified at the time out of security concerns.  \n",
    "In 1998 a practical attack against DES was demonstrated that was able to completed decrypt cypher text in under 24hrs.  \n",
    "\n",
    "#### Algorithm Description\n",
    "1. The **plaintext** is broken down into **blocks** and **padded** as necessary.\n",
    "2. The **private key** is expanded to via a **key schedule** so as to increase its entropy on each round.\n",
    "3. Several rounds of the following operations are applied:\n",
    "   1. **Substitute** pairs of bytes via **S-Boxes** (lookup tables).\n",
    "   2. Cirularly **Shift** the bytes as though they were in a $4 \\times 4$ box, with each row shifted more than the last.\n",
    "   3. **Mix** the columns via an invertible linear transformation.\n",
    "   4. Add (xor) the scheduled key to the block\n",
    "\n",
    "![title](https://imgs.xkcd.com/comics/cryptography.png)\n",
    "\n",
    "#### Example"
   ]
  },
  {
   "cell_type": "code",
   "execution_count": null,
   "metadata": {},
   "outputs": [],
   "source": [
    "from Crypto.Cipher import AES\n",
    "import base64"
   ]
  },
  {
   "cell_type": "markdown",
   "metadata": {},
   "source": [
    "First define the key and create the encrypting object"
   ]
  },
  {
   "cell_type": "code",
   "execution_count": null,
   "metadata": {},
   "outputs": [],
   "source": [
    "key = b'Sixteen byte key'\n",
    "AES_cipher = AES.new(key, AES.MODE_ECB)"
   ]
  },
  {
   "cell_type": "markdown",
   "metadata": {},
   "source": [
    "Create the plaintext, and pad it match the required 16 byte block length"
   ]
  },
  {
   "cell_type": "code",
   "execution_count": null,
   "metadata": {},
   "outputs": [],
   "source": [
    "plaintext = b'What that?'\n",
    "plaintext += b' '*(-len(plaintext)%16)\n",
    "print(plaintext)\n",
    "print(list(plaintext))"
   ]
  },
  {
   "cell_type": "markdown",
   "metadata": {},
   "source": [
    "Encrypt the text to ciphertext"
   ]
  },
  {
   "cell_type": "code",
   "execution_count": null,
   "metadata": {},
   "outputs": [],
   "source": [
    "ciphertext = AES_cipher.encrypt(plaintext)\n",
    "print(ciphertext)\n",
    "print(list(ciphertext))"
   ]
  },
  {
   "cell_type": "markdown",
   "metadata": {},
   "source": [
    "Decrypt the ciphertext"
   ]
  },
  {
   "cell_type": "code",
   "execution_count": null,
   "metadata": {},
   "outputs": [],
   "source": [
    "recovered_plaintext = AES_cipher.decrypt(ciphertext)\n",
    "print(recovered_plaintext)\n",
    "print(list(recovered_plaintext))"
   ]
  },
  {
   "cell_type": "markdown",
   "metadata": {},
   "source": [
    "## Hashing and Digital Signatures\n",
    "\n",
    "Hashing is a technique in computer science used to encode data of any length into a fixed length string with high entropy.  \n",
    "One of the primary purposes of doing this is cryptography (which uses so-called \"cyrptographic hash functions\").\n",
    "The idea is that given a hash function and an example output, it is infeasbile to determine what the original input was. Furthermore a small change in the original data leads to a large change in the hash-value (also called hash-digest)  \n",
    "\n",
    "How is this useful to digital signatures?  \n",
    "Imagine you take your **claims data**, pad it with **secret key** then take the **hash digest** and give to a user. They, and anyone else will be unable to calculate your **secret key**, but the user may later present their **claims data** along with the **hash digest** to you in order to prove you signed their **claims data**.\n",
    "\n",
    "### JWTs\n",
    "\n",
    "https://en.wikipedia.org/wiki/JSON_Web_Token  \n",
    "Javascript Webt Tokens (JWTs) use hashing to sign a payload. This is used by a client to make access claims to a server without having to pass their login credentials with every call.  \n",
    "Here's a demo on how it works:  \n",
    "\n",
    "#### Step 1\n",
    "\n",
    "Select a **JWT secret**. This is generally a large number (byte string) so as to make it infeasible to brute-force."
   ]
  },
  {
   "cell_type": "code",
   "execution_count": null,
   "metadata": {},
   "outputs": [],
   "source": [
    "import base64\n",
    "import json\n",
    "import random\n",
    "JWT_secret = bytearray(random.getrandbits(8) for _ in range(256))\n",
    "print(base64.b64encode(JWT_secret))"
   ]
  },
  {
   "cell_type": "markdown",
   "metadata": {},
   "source": [
    "#### Step 2\n",
    "Define your header which contains a detription of the type of token.  \n",
    "Has fields:  \n",
    "* **alg**: The hashing algorithm used\n",
    "* **type**: The type of token (usually 'JWT')"
   ]
  },
  {
   "cell_type": "code",
   "execution_count": null,
   "metadata": {},
   "outputs": [],
   "source": [
    "header = {\n",
    "    \"alg\": \"HS256\",  # This states it is using the standard 256 bit Hashed-Based Message Authentication Code \n",
    "    \"typ\": \"JWT\"  # This confirms it is a JWT\n",
    "}\n",
    "byte_string = bytearray(json.dumps(header), 'utf8')\n",
    "header_string = base64.encodestring(byte_string)\n",
    "print(header_string)"
   ]
  },
  {
   "cell_type": "markdown",
   "metadata": {},
   "source": [
    "#### Step 3\n",
    "Define your token's payload. This contains the authentication claims made with the token.  \n",
    "Has optional field:  \n",
    "* **exp**: The expiration timestamp of the token as a Unix Timestamp. This is used to make temporary login sessions that expire after inactivity. It also ensures that if the JWT is compromised an attacker has a limited window in which to exploit the JWT.\n",
    "* **username**: The username claimed by the bearer of the token.  \n",
    "\n",
    "There are many other standard optional fields"
   ]
  },
  {
   "cell_type": "code",
   "execution_count": null,
   "metadata": {},
   "outputs": [],
   "source": [
    "payload = {\n",
    "    \"exp\": 1606925710,\n",
    "    \"username\": \"user@domain.com\"\n",
    "}\n",
    "byte_string = bytearray(json.dumps(payload), 'utf8')\n",
    "payload_string = base64.encodestring(byte_string)\n",
    "print(payload_string)"
   ]
  },
  {
   "cell_type": "markdown",
   "metadata": {},
   "source": [
    "#### Step 4\n",
    "Create the hash signature using the HMAC algorithm:"
   ]
  },
  {
   "cell_type": "code",
   "execution_count": null,
   "metadata": {},
   "outputs": [],
   "source": [
    "import hmac\n",
    "body_string = header_string+b'.'+payload_string\n",
    "body_string = b'eyJhbGciOiAiSFMyNTYiLCAidHlwIjogIkpXVCJ9'+b'.'+b'eyJleHAiOiAxNjA2OTI1NzEwLCAidXNlcm5hbWUiOiAibnlsYXN0ZXN0QHViaWNvLmlvIn0'\n",
    "hash_digest = hmac.new(body_string, JWT_secret).digest()\n",
    "base64.b64encode(hash_digest).decode()\n"
   ]
  },
  {
   "cell_type": "code",
   "execution_count": null,
   "metadata": {},
   "outputs": [],
   "source": [
    "import jwt\n",
    "JWT_token = jwt.encode(payload, str(JWT_secret))\n",
    "print(JWT_token)"
   ]
  },
  {
   "cell_type": "code",
   "execution_count": null,
   "metadata": {},
   "outputs": [],
   "source": [
    "print(jwt.decode(JWT_token, str(JWT_secret)))"
   ]
  }
 ],
 "metadata": {
  "kernelspec": {
   "display_name": "Python 3",
   "language": "python",
   "name": "python3"
  },
  "language_info": {
   "codemirror_mode": {
    "name": "ipython",
    "version": 3
   },
   "file_extension": ".py",
   "mimetype": "text/x-python",
   "name": "python",
   "nbconvert_exporter": "python",
   "pygments_lexer": "ipython3",
   "version": "3.7.6"
  }
 },
 "nbformat": 4,
 "nbformat_minor": 2
}
